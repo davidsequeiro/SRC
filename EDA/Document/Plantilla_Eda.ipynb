{
 "cells": [
  {
   "cell_type": "markdown",
   "id": "090eff69",
   "metadata": {},
   "source": [
    "# PRUEBA EDA "
   ]
  },
  {
   "cell_type": "markdown",
   "id": "6edb3c4f",
   "metadata": {},
   "source": [
    "# 🧪 Exploración de Datos Automatizada\n",
    "Este notebook muestra cómo usar la clase `EDAHelper` para realizar un Análisis Exploratorio de Datos por fases."
   ]
  },
  {
   "cell_type": "markdown",
   "id": "fca081f0",
   "metadata": {},
   "source": [
    "### 📂 Estructura de Carpetas para ejecutar el EDA"
   ]
  },
  {
   "cell_type": "code",
   "execution_count": null,
   "id": "1f2c84ab",
   "metadata": {},
   "outputs": [],
   "source": [
    "\"\"\"\n",
    "mi_proyecto/\n",
    "│\n",
    "├── src/\n",
    "│   └── Class_EDA.py   ← Aquí está tu clase `EDAHelper`\n",
    "│   └── Class_Test.py   ← Aquí está tu clase `StatisticalTest`\n",
    "│\n",
    "├── data/\n",
    "│   └── archivo.csv        ← Tu dataset\n",
    "│\n",
    "├── document/\n",
    "│   └── eda_analysis.ipynb ← Tu notebook\n",
    "│   └── Doc_Aux.ipynb ← Documento de informacio tecnica teorica\n",
    "\"\"\""
   ]
  },
  {
   "cell_type": "markdown",
   "id": "423fd1f8",
   "metadata": {},
   "source": [
    "# ⚙️🔧🛠️ Importaciones y carga de archivos"
   ]
  },
  {
   "cell_type": "code",
   "execution_count": null,
   "id": "29c77970",
   "metadata": {},
   "outputs": [],
   "source": [
    "# RECURSOS\n",
    "import os\n",
    "import sys\n",
    "import pandas as pd\n",
    "\n",
    "# Importacion de los recursos Class_EDA (Class_Test ya importado desde Class_EDA)\n",
    "# Añadir la carpeta src al path\n",
    "sys.path.append(os.path.abspath(os.path.join('..', 'src')))\n",
    "# Importar clase\n",
    "from Class_EDA import EDAHelper\n",
    "\n",
    "# Carga del archivo (Copia el archivo a analizar a la carpeta Data)\n",
    "# Nombre del archivo\n",
    "dataset = 'tu_archivo.ext' # ❗❗❗❗ Cambia esto por el nombre de tu archivo ❗❗❗\n",
    "# Ruta del archivo de datos\n",
    "file_path = os.path.join('..', 'data', dataset)  \n",
    "\n",
    "# Crear instancia y cargar datos\n",
    "eda = EDAHelper(file_path)\n",
    "eda.load_data()\n",
    "eda.df_raw # Muestra los datos originales"
   ]
  },
  {
   "cell_type": "markdown",
   "id": "6c4394a9",
   "metadata": {},
   "source": [
    "## 🗄️ Fase 0: Datos Crudos"
   ]
  },
  {
   "cell_type": "code",
   "execution_count": null,
   "id": "24870b8b",
   "metadata": {},
   "outputs": [],
   "source": [
    "eda.run_fase0_Datos_Crudos()"
   ]
  },
  {
   "cell_type": "markdown",
   "id": "cf21bc75",
   "metadata": {},
   "source": [
    "### 📝 Notas Fase 0"
   ]
  },
  {
   "cell_type": "markdown",
   "id": "abfc09c8",
   "metadata": {},
   "source": [
    "### 🧩🧹 Transformaciones Básicas"
   ]
  },
  {
   "cell_type": "code",
   "execution_count": null,
   "id": "9f3fa0b2",
   "metadata": {},
   "outputs": [],
   "source": [
    "'EJEMPLOS DE TRANSFORMACIONES'\n",
    "\"\"\"\n",
    "#- Modificamos el formato de las columnas Alta y Fecha_venta a tipo datetime\n",
    "eda.df['Alta'] = pd.to_datetime(eda.df['Alta'])\n",
    "eda.df['Fecha_Venta'] = pd.to_datetime(eda.df['Fecha_Venta'])\n",
    "#- Modificamos el formato de la columna Año a tipo String\n",
    "eda.df['Año'] = eda.df['Año'].astype(str)\n",
    "#- Modificamos el formato de la columna Año a tipo booleano\n",
    "eda.df['Desmontada'] = eda.df['Desmontada'].astype(bool)\n",
    "#- Eliminamos las columnas Fotos y Fotos_veh\n",
    "eda.df.drop(columns=['Fotos'], inplace=True)\n",
    "eda.df.drop(columns=['Fotos_Veh'], inplace=True)\"\"\""
   ]
  },
  {
   "cell_type": "code",
   "execution_count": null,
   "id": "7c98f250",
   "metadata": {},
   "outputs": [],
   "source": [
    "# Muestra los datos con las transformaciones aplicadas.\n",
    "eda.df"
   ]
  },
  {
   "cell_type": "markdown",
   "id": "89237518",
   "metadata": {},
   "source": [
    "### Exportar DataSet Transformado"
   ]
  },
  {
   "cell_type": "code",
   "execution_count": null,
   "id": "ae74e942",
   "metadata": {},
   "outputs": [],
   "source": [
    "'DESCOMENTA LA OPCION QUE NECESITES Y EJECUTA'\n",
    "#eda.df.to_csv((os.path.join(\"Descargas\",\"archivo.xlsx\"), index=False)\n",
    "#eda.df.to_csv((os.path.join(\"Descargas\",\"archivo.xlsx\"), index=False, encoding='utf-8') # Si contiene tildes o caracteres especiales\n",
    "#eda.df.to_parquet(os.path.join(\"Descargas\",\"archivo.xlsx\"), index=False) # pip install pyarrow (o fastparquet)\n",
    "#eda.df.to_excel(os.path.join(\"Descargas\",\"archivo.xlsx\"), index=False) # pip install openpyxl (para .xlsx)\n"
   ]
  },
  {
   "cell_type": "markdown",
   "id": "b8c07f31",
   "metadata": {},
   "source": [
    "## 🔍 Fase 1: Análisis Preliminar"
   ]
  },
  {
   "cell_type": "code",
   "execution_count": null,
   "id": "be11e6a9",
   "metadata": {},
   "outputs": [],
   "source": [
    "eda.run_fase1_preliminar()"
   ]
  },
  {
   "cell_type": "markdown",
   "id": "0a30d7e0",
   "metadata": {},
   "source": [
    "#### 📝 Notas Fase 1:"
   ]
  },
  {
   "cell_type": "markdown",
   "id": "6f7f8c21",
   "metadata": {},
   "source": [
    "## 🔢 Fase 2: Análisis Numérico"
   ]
  },
  {
   "cell_type": "code",
   "execution_count": null,
   "id": "b94b4dc2",
   "metadata": {},
   "outputs": [],
   "source": [
    "eda.run_fase2_numericas()"
   ]
  },
  {
   "cell_type": "markdown",
   "id": "4174febb",
   "metadata": {},
   "source": [
    "#### 📝 Notas Fase 2:"
   ]
  },
  {
   "cell_type": "markdown",
   "id": "8e50b04f",
   "metadata": {},
   "source": [
    "## 🔠 Fase 3: Variables Categóricas"
   ]
  },
  {
   "cell_type": "code",
   "execution_count": null,
   "id": "a0872095",
   "metadata": {},
   "outputs": [],
   "source": [
    "#modifica el parametro para cambiar el numero de columnas de los graficos (Por defecto 15)\n",
    "eda.run_fase3_categoricas(max_categorias=15) "
   ]
  },
  {
   "cell_type": "markdown",
   "id": "5aa41b3e",
   "metadata": {},
   "source": [
    "#### 📝 Notas Fase 3:"
   ]
  },
  {
   "cell_type": "markdown",
   "id": "4180ed1f",
   "metadata": {},
   "source": [
    "## 📆 Fase 4: Fechas y Booleanos"
   ]
  },
  {
   "cell_type": "code",
   "execution_count": null,
   "id": "7f3377b3",
   "metadata": {},
   "outputs": [],
   "source": [
    "eda.run_fase4_fechas_booleans()"
   ]
  },
  {
   "cell_type": "markdown",
   "id": "94426c31",
   "metadata": {},
   "source": [
    "#### 📝 Notas Fase 4:"
   ]
  },
  {
   "cell_type": "markdown",
   "id": "c54fa55a",
   "metadata": {},
   "source": [
    "## 🔗 Fase 5: Correlaciones"
   ]
  },
  {
   "cell_type": "code",
   "execution_count": null,
   "id": "f89cd20e",
   "metadata": {},
   "outputs": [],
   "source": [
    "eda.run_fase5_correlaciones()"
   ]
  },
  {
   "cell_type": "markdown",
   "id": "b0dd88d0",
   "metadata": {},
   "source": [
    "#### 📝 Notas Fase 5:"
   ]
  },
  {
   "cell_type": "markdown",
   "id": "b90a4228",
   "metadata": {},
   "source": [
    "## 🧾 Fase 6: Conclusiones Automáticas"
   ]
  },
  {
   "cell_type": "code",
   "execution_count": null,
   "id": "7a21a6d9",
   "metadata": {},
   "outputs": [],
   "source": [
    "eda.run_fase6_conclusiones()"
   ]
  },
  {
   "cell_type": "markdown",
   "id": "55a51c97",
   "metadata": {},
   "source": [
    "#### 📝 Notas Fase 6:"
   ]
  },
  {
   "cell_type": "markdown",
   "id": "1c13a7fc",
   "metadata": {},
   "source": [
    "## 🧪 Fase Test: Análisis Univariante con Test Estadísticos"
   ]
  },
  {
   "cell_type": "code",
   "execution_count": null,
   "id": "18deb381",
   "metadata": {},
   "outputs": [],
   "source": [
    "'DESCOMENTAR PARA EJECUTAR TEST'\n",
    "#eda.run_fase_test_univariante()"
   ]
  },
  {
   "cell_type": "markdown",
   "id": "89346c3b",
   "metadata": {},
   "source": [
    "#### 📝 Notas Test Univariante:"
   ]
  },
  {
   "cell_type": "markdown",
   "id": "281ca2b9",
   "metadata": {},
   "source": [
    "## 🧪 Fase Test A/B (1 Muestra) -> Hipotesis"
   ]
  },
  {
   "cell_type": "code",
   "execution_count": null,
   "id": "2453c2ae",
   "metadata": {},
   "outputs": [],
   "source": [
    "'DESCOMENTAR PARA EJECUTAR TEST'\n",
    "#eda.run_fase_test_one_sample()"
   ]
  },
  {
   "cell_type": "markdown",
   "id": "42c4bec6",
   "metadata": {},
   "source": [
    "#### 📝 Notas Test One Sample:"
   ]
  },
  {
   "cell_type": "markdown",
   "id": "3aaf8fb4",
   "metadata": {},
   "source": [
    "## ⚗️ Fase Test: Análisis Bivariante con Test Estadísticos"
   ]
  },
  {
   "cell_type": "code",
   "execution_count": null,
   "id": "b00f167d",
   "metadata": {},
   "outputs": [],
   "source": [
    "'DESCOMENTAR PARA EJECUTAR TEST'\n",
    "#eda.run_fase_test_bivariante()"
   ]
  },
  {
   "cell_type": "markdown",
   "id": "e7234280",
   "metadata": {},
   "source": [
    "#### 📝 Notas Test Bivariante:"
   ]
  },
  {
   "cell_type": "markdown",
   "id": "531cba5d",
   "metadata": {},
   "source": [
    "## ⚗️ Fase Test A/B (Grupos) -> Hipotesis"
   ]
  },
  {
   "cell_type": "code",
   "execution_count": null,
   "id": "f5ce3ce5",
   "metadata": {},
   "outputs": [],
   "source": [
    "'DESCOMENTAR PARA EJECUTAR TEST'\n",
    "#eda.run_fase_test_ab()"
   ]
  },
  {
   "cell_type": "markdown",
   "id": "25c2484b",
   "metadata": {},
   "source": [
    "#### 📝 Notas Test A/B (Grupos):"
   ]
  }
 ],
 "metadata": {
  "kernelspec": {
   "display_name": "Python 3",
   "language": "python",
   "name": "python3"
  },
  "language_info": {
   "codemirror_mode": {
    "name": "ipython",
    "version": 3
   },
   "file_extension": ".py",
   "mimetype": "text/x-python",
   "name": "python",
   "nbconvert_exporter": "python",
   "pygments_lexer": "ipython3",
   "version": "3.12.5"
  }
 },
 "nbformat": 4,
 "nbformat_minor": 5
}
